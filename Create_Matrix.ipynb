{
  "nbformat": 4,
  "nbformat_minor": 0,
  "metadata": {
    "colab": {
      "provenance": [],
      "authorship_tag": "ABX9TyO8C6jIMkXxJrj+9/xcu98s",
      "include_colab_link": true
    },
    "kernelspec": {
      "name": "python3",
      "display_name": "Python 3"
    },
    "language_info": {
      "name": "python"
    }
  },
  "cells": [
    {
      "cell_type": "markdown",
      "metadata": {
        "id": "view-in-github",
        "colab_type": "text"
      },
      "source": [
        "<a href=\"https://colab.research.google.com/github/anuragsinghbhandari/Create_Matrix/blob/main/Create_Matrix.ipynb\" target=\"_parent\"><img src=\"https://colab.research.google.com/assets/colab-badge.svg\" alt=\"Open In Colab\"/></a>"
      ]
    },
    {
      "cell_type": "code",
      "source": [
        "#importing libraries\n",
        "import numpy as np\n"
      ],
      "metadata": {
        "id": "iFt2FnlOK7WE"
      },
      "execution_count": null,
      "outputs": []
    },
    {
      "cell_type": "code",
      "source": [
        "#creating a square matrix of size n\n",
        "n =int(input(\"Enter the size of square matrix: \"))\n",
        "Matrix_A = np.ones((n,n), dtype=np.int64)"
      ],
      "metadata": {
        "colab": {
          "base_uri": "https://localhost:8080/"
        },
        "id": "cv4ZlwIkOIkN",
        "outputId": "6cca11d9-aa98-43ae-bd3e-482233fe57a3"
      },
      "execution_count": 13,
      "outputs": [
        {
          "name": "stdout",
          "output_type": "stream",
          "text": [
            "Enter the size of square matrix: 2\n"
          ]
        }
      ]
    },
    {
      "cell_type": "code",
      "source": [
        "for i in range(0, n):\n",
        "  for j in range(0, n):\n",
        "    Matrix_A[i,j]=int(input(\"Enter a\"+str(i+1)+str(j+1)+\": \"))\n",
        "print(Matrix_A)\n"
      ],
      "metadata": {
        "colab": {
          "base_uri": "https://localhost:8080/"
        },
        "id": "jFuL_qYbQGa1",
        "outputId": "3e18d02b-f7b9-4836-f254-ab25c9123dfb"
      },
      "execution_count": 14,
      "outputs": [
        {
          "output_type": "stream",
          "name": "stdout",
          "text": [
            "Enter a11: 1\n",
            "Enter a12: 2\n",
            "Enter a21: 3\n",
            "Enter a22: 4\n",
            "[[1 2]\n",
            " [3 4]]\n"
          ]
        }
      ]
    },
    {
      "cell_type": "code",
      "source": [
        "#integrating it in a function\n",
        "def create_matrix(matrix_name, size):\n",
        "  matrix_name = np.ones((size,size), dtype=np.int64)\n",
        "  for i in range(0, size):\n",
        "    for j in range(0, size):\n",
        "      matrix_name[i,j]=int(input(\"Enter a\"+str(i+1)+str(j+1)+\": \"))\n",
        "  return matrix_name\n"
      ],
      "metadata": {
        "id": "QP9A6DNDT8RC"
      },
      "execution_count": 15,
      "outputs": []
    },
    {
      "cell_type": "code",
      "source": [
        "#trying the create_matrix function\n",
        "A = create_matrix(\"A\", 3)\n",
        "print(A)\n"
      ],
      "metadata": {
        "colab": {
          "base_uri": "https://localhost:8080/"
        },
        "id": "wwJ4jjvfmczX",
        "outputId": "678c9519-b8b6-4eee-d7cf-c9fedae46d95"
      },
      "execution_count": 17,
      "outputs": [
        {
          "output_type": "stream",
          "name": "stdout",
          "text": [
            "Enter a11: 11\n",
            "Enter a12: 12\n",
            "Enter a13: 13\n",
            "Enter a21: 14\n",
            "Enter a22: 15\n",
            "Enter a23: 16\n",
            "Enter a31: 17\n",
            "Enter a32: 18\n",
            "Enter a33: 19\n",
            "[[11 12 13]\n",
            " [14 15 16]\n",
            " [17 18 19]]\n"
          ]
        }
      ]
    }
  ]
}